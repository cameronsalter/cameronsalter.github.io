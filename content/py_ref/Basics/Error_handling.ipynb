{
    "cells": [
        {
            "cell_type": "markdown",
            "metadata": {},
            "source": [
                "---\n",
                "title: \"Error handling\"\n",
                "date: 2022-15-02T14:10:12+01:00\n",
                "draft: true\n",
                "tags: [\"test\", \"python\", \"markdown\"]\n",
                "categories: [\"post\"]\n",
                "---"
            ]
        },
        {
            "cell_type": "markdown",
            "metadata": {},
            "source": [
                "# Handling exceptions"
            ]
        },
        {
            "cell_type": "code",
            "execution_count": 8,
            "metadata": {},
            "outputs": [
                {
                    "name": "stdout",
                    "output_type": "stream",
                    "text": [
                        "Error: var1 must be a float or int\n"
                    ]
                }
            ],
            "source": [
                "var1 = 'a'\n",
                "\n",
                "try:\n",
                "    var2 = var1 + 1.0 # TypeError exception raised if var1 is not a number\n",
                "    print(f'var2 = {var2}')\n",
                "\n",
                "except TypeError:\n",
                "    print('Error: var1 must be a float or int')"
            ]
        },
        {
            "cell_type": "markdown",
            "metadata": {},
            "source": [
                "# Raising exceptions"
            ]
        },
        {
            "cell_type": "code",
            "execution_count": 7,
            "metadata": {},
            "outputs": [
                {
                    "name": "stdout",
                    "output_type": "stream",
                    "text": [
                        "Error: var1 must be positive\n"
                    ]
                }
            ],
            "source": [
                "var1 = -1\n",
                "\n",
                "try:\n",
                "    if var1 <= 0:\n",
                "        # ValueError exception raised if var1 <= 0\n",
                "        raise ValueError('Error: var1 must be positive')\n",
                "    else:\n",
                "        var2 = var1 + 1.0\n",
                "        print(f'var2 = {var2}')\n",
                "\n",
                "except ValueError as err:\n",
                "    print(err)"
            ]
        },
        {
            "cell_type": "markdown",
            "metadata": {},
            "source": [
                "# Else and finally clauses"
            ]
        },
        {
            "cell_type": "code",
            "execution_count": 9,
            "metadata": {},
            "outputs": [
                {
                    "name": "stdout",
                    "output_type": "stream",
                    "text": [
                        "var2 = 2.0\n",
                        "No errors were raised\n",
                        "finally clause always executes\n"
                    ]
                }
            ],
            "source": [
                "var1 = 1\n",
                "\n",
                "try:\n",
                "    if var1 <= 0:\n",
                "        # ValueError exception raised if var1 <= 0\n",
                "        raise ValueError('Error: var1 must be positive') \n",
                "    else:\n",
                "        var2 = var1 + 1.0\n",
                "        print(f'var2 = {var2}')\n",
                "\n",
                "except ValueError as err:\n",
                "    print(err)\n",
                "\n",
                "else:\n",
                "    print('No errors were raised')\n",
                "\n",
                "finally:\n",
                "    print('finally clause always executes')"
            ]
        },
        {
            "cell_type": "code",
            "execution_count": null,
            "metadata": {},
            "outputs": [],
            "source": []
        }
    ],
    "metadata": {
        "interpreter": {
            "hash": "b3ba2566441a7c06988d0923437866b63cedc61552a5af99d1f4fb67d367b25f"
        },
        "kernelspec": {
            "display_name": "Python 3.6.4 64-bit ('base': conda)",
            "name": "python3"
        },
        "language_info": {
            "codemirror_mode": {
                "name": "ipython",
                "version": 3
            },
            "file_extension": ".py",
            "mimetype": "text/x-python",
            "name": "python",
            "nbconvert_exporter": "python",
            "pygments_lexer": "ipython3",
            "version": "3.6.4"
        },
        "orig_nbformat": 4
    },
    "nbformat": 4,
    "nbformat_minor": 2
}
